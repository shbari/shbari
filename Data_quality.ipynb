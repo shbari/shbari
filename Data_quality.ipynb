{
 "cells": [
  {
   "cell_type": "markdown",
   "metadata": {},
   "source": [
    "Link: https://journalofbigdata.springeropen.com/articles/10.1186/s40537-023-00746-z"
   ]
  },
  {
   "cell_type": "code",
   "execution_count": null,
   "metadata": {},
   "outputs": [],
   "source": [
    "#Zscore\n",
    "from scipy import stats\n",
    "\n",
    "# Calculate Z-scores\n",
    "data['turbidity_z'] = stats.zscore(data['turbidity'])\n",
    "\n",
    "# Define a threshold for identifying outliers\n",
    "threshold = 3  # Often 3 standard deviations from the mean is used\n",
    "\n",
    "# Identify outliers\n",
    "outliers = data[np.abs(data['turbidity_z']) > threshold]\n",
    "\n",
    "print(f'Outliers: {outliers}')\n",
    "\n",
    "# Optionally, remove outliers\n",
    "data_clean = data[np.abs(data['turbidity_z']) <= threshold]\n"
   ]
  },
  {
   "cell_type": "code",
   "execution_count": null,
   "metadata": {},
   "outputs": [],
   "source": [
    "#Interquartile range\n",
    "# Calculate Q1 (25th percentile) and Q3 (75th percentile)\n",
    "Q1 = data['turbidity'].quantile(0.25)\n",
    "Q3 = data['turbidity'].quantile(0.75)\n",
    "IQR = Q3 - Q1\n",
    "\n",
    "# Define outlier bounds\n",
    "lower_bound = Q1 - 1.5 * IQR\n",
    "upper_bound = Q3 + 1.5 * IQR\n",
    "\n",
    "# Identify outliers\n",
    "outliers = data[(data['turbidity'] < lower_bound) | (data['turbidity'] > upper_bound)]\n",
    "print(f'Outliers: {outliers}')\n",
    "\n",
    "# Optionally, remove outliers\n",
    "data_clean = data[(data['turbidity'] >= lower_bound) & (data['turbidity'] <= upper_bound)]\n"
   ]
  }
 ],
 "metadata": {
  "language_info": {
   "name": "python"
  }
 },
 "nbformat": 4,
 "nbformat_minor": 2
}
