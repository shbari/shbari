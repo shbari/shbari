{
 "cells": [
  {
   "cell_type": "code",
   "execution_count": 34,
   "id": "efbe66b7",
   "metadata": {},
   "outputs": [],
   "source": [
    "# draw a map of Japan showing Okinawa in Inset (top left) and Ogasawara Island (bottom right)\n",
    "import pygmt #Import pygmt\n",
    "fig = pygmt.Figure()\n",
    "#Draw the base map using desired feature.\n",
    "fig.coast(\n",
    "    region=[125, 153, 30, 48], # Coordinate covering japan excluding Okinawa, including Kuril Island\n",
    "    borders=\"3/thin\",#Border thickness\n",
    "    shorelines=\"thin\",\n",
    "    projection=\"M15c\",#Projection type and size\n",
    "    land=\"lightgrey\",#Land color\n",
    "    water=\"lightblue\",#Water color\n",
    "    frame=\"a\", # Frame type. Other type is also possible.\n",
    ")\n",
    "# Add text for country name. X and Y indicate position. Edit font, size and color.\n",
    "fig.text(text=\"JAPAN\", x=137.9, y=35.9, font=\"20p,Helvetica-Bold,black\") \n",
    "# Add an inset\n",
    "with fig.inset(\n",
    "    position=\"jTL+o0.5c/0.2c\", #Set position at top left (TL)\n",
    "    margin=\"0.6c\", #Add margin to accomodate inset lat/long grid. This is related to figure size (M???c/w)\n",
    "    box=\"+pred\", #Add a box around inset, color red\n",
    "    region=[123.5, 128.4, 24.03, 27.10],#Inset region\n",
    "    projection=\"M6c\",#Projection type with size\n",
    "):\n",
    "    # Create a figure inside the inset using desired features.\n",
    "    fig.coast(\n",
    "        land=\"lightgreen\",\n",
    "        borders=[1, 2],\n",
    "        shorelines=\"1/thin\",\n",
    "        water=\"white\",\n",
    "        frame=True #sets the default GMT style frame and automatically determines tick labels from the plot region\n",
    "    )\n",
    "#Add an inset legend at bottom. \n",
    "#Same can be done passsing a string to the frame parameter above\n",
    "fig.text(text=\"In inset:Okinawa \", x=132.25, y=41.6)\n",
    "pass\n",
    "#Add second inset. \n",
    "with fig.inset(\n",
    "    position=\"jRB+o0.1c\", # Define position\n",
    "    margin=\"1.0c/0.5c\", #Margin can be set seperately for each side\n",
    "    #box=\"+pred\", # Box is ommited here\n",
    "    region=[141.13, 142.26, 24.71, 27.20],\n",
    "    projection=\"M4.5c\",\n",
    "):\n",
    "    # Create a figure inside the inset.\n",
    "    fig.coast(\n",
    "        land=\"green\",\n",
    "        borders=[1, 2],\n",
    "        shorelines=\"1/thin\",\n",
    "        water=\"white\",\n",
    "        frame=True \n",
    "    )\n",
    "fig.text(text=\"In inset:ogasawara \", x=148.5, y=41)#Add an legend \n",
    "#fig.show()#Show figure, if needed\n",
    "fig.savefig(\"Report_G.pdf\")#Export figure as pdf"
   ]
  },
  {
   "cell_type": "code",
   "execution_count": null,
   "id": "7694c555",
   "metadata": {},
   "outputs": [],
   "source": []
  }
 ],
 "metadata": {
  "kernelspec": {
   "display_name": "Python 3 (ipykernel)",
   "language": "python",
   "name": "python3"
  },
  "language_info": {
   "codemirror_mode": {
    "name": "ipython",
    "version": 3
   },
   "file_extension": ".py",
   "mimetype": "text/x-python",
   "name": "python",
   "nbconvert_exporter": "python",
   "pygments_lexer": "ipython3",
   "version": "3.11.0"
  }
 },
 "nbformat": 4,
 "nbformat_minor": 5
}
